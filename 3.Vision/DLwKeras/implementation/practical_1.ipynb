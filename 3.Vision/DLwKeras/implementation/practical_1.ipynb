{
 "cells": [
  {
   "cell_type": "code",
   "execution_count": 1,
   "metadata": {},
   "outputs": [
    {
     "name": "stderr",
     "output_type": "stream",
     "text": [
      "Using Theano backend.\n"
     ]
    }
   ],
   "source": [
    "from __future__ import print_function\n",
    "import numpy as np\n",
    "from keras.datasets import mnist\n",
    "from keras.models import Sequential\n",
    "from keras.layers import Dense, Activation\n",
    "from keras.optimizers import SGD\n",
    "from keras.utils import np_utils"
   ]
  },
  {
   "cell_type": "code",
   "execution_count": null,
   "metadata": {},
   "outputs": [],
   "source": [
    "np.random.seed(1671)\n",
    "\n",
    "epochs = 10\n",
    "batch = 128\n",
    "verbose = 1\n",
    "classes = 10\n",
    "optimizer = SGD()\n",
    "hid_lay = 128\n",
    "valid_portion = 0.2\n",
    "\n",
    "(X_train, y_train), (X_test, y_test) = mnist.load_data()\n",
    "# 28 x 28\n",
    "reshaped = 784\n",
    "X_train = X_train.reshape(60000, reshaped)\n",
    "X_test = X_test.reshape(10000, reshaped)\n",
    "X_train = X_train.astype('float32')\n",
    "X_test = X_test.astype('float32')\n",
    "\n",
    "# normalizing\n",
    "X_train /= 255\n",
    "X_test\t/= 255\n",
    "\n",
    "print('Train Samples : {}'.format(X_train.shape[0]))\n",
    "print('Test Samples  : {}'.format(X_test.shape[0]))\n",
    "\n",
    "y_train = np_utils.to_categorical(y_train, classes)\n",
    "y_test = np_utils.to_categorical(y_test, classes)\n",
    "\n",
    "model = Sequential()\n",
    "model.add(Dense(hid_lay, input_shape=(reshaped,)))\n",
    "model.add(Activation('relu'))\n",
    "model.add(Dense(hid_lay))\n",
    "model.add(Activation('relu'))\n",
    "model.add(Dense(classes))\n",
    "model.add(Activation('softmax'))\n",
    "model.summary()\n",
    "model.compile(loss='categorical_crossentropy', optimizer=optimizer, \n",
    "\tmetrics=['accuracy'])\n",
    "history = model.fit(X_train, y_train,\n",
    "\tbatch_size=batch, epochs=epochs,\n",
    "\tverbose=verbose, validation_split=valid_portion)\n",
    "score = model.evaluate(X_test, y_test, verbose=verbose)\n",
    "print('Test Score:    {}'.format(score[0]))\n",
    "print('Test Accuracy: {}'.format(score[1]))\n"
   ]
  }
 ],
 "metadata": {
  "kernelspec": {
   "display_name": "Python 2",
   "language": "python",
   "name": "python2"
  },
  "language_info": {
   "codemirror_mode": {
    "name": "ipython",
    "version": 2
   },
   "file_extension": ".py",
   "mimetype": "text/x-python",
   "name": "python",
   "nbconvert_exporter": "python",
   "pygments_lexer": "ipython2",
   "version": "2.7.15"
  }
 },
 "nbformat": 4,
 "nbformat_minor": 2
}
